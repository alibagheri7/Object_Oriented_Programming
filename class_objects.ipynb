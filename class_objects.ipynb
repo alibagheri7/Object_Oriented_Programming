{
  "nbformat": 4,
  "nbformat_minor": 0,
  "metadata": {
    "colab": {
      "name": "class_objects.ipynb",
      "provenance": [],
      "authorship_tag": "ABX9TyONkwrirooU55FrtaiOX37X",
      "include_colab_link": true
    },
    "kernelspec": {
      "name": "python3",
      "display_name": "Python 3"
    },
    "language_info": {
      "name": "python"
    }
  },
  "cells": [
    {
      "cell_type": "markdown",
      "metadata": {
        "id": "view-in-github",
        "colab_type": "text"
      },
      "source": [
        "<a href=\"https://colab.research.google.com/github/alibagheri7/Object_Oriented_Programming/blob/main/class_objects.ipynb\" target=\"_parent\"><img src=\"https://colab.research.google.com/assets/colab-badge.svg\" alt=\"Open In Colab\"/></a>"
      ]
    },
    {
      "cell_type": "markdown",
      "source": [
        "The notebook contains codes written as part of practicing a crash course on object oriented programming, taught by Corey Schafer\n",
        "https://github.com/CoreyMSchafer\n",
        "\n",
        "Here is the link to the youtube channel.\n",
        "\n",
        "https://www.youtube.com/watch?v=ZDa-Z5JzLYM&list=PL-osiE80TeTsqhIuOqKhwlXsIBIdSeYtc"
      ],
      "metadata": {
        "id": "0lKXVx7c1RZd"
      }
    },
    {
      "cell_type": "markdown",
      "source": [
        "Session 1"
      ],
      "metadata": {
        "id": "XcpDYtF2FSY6"
      }
    },
    {
      "cell_type": "code",
      "execution_count": 1,
      "metadata": {
        "colab": {
          "base_uri": "https://localhost:8080/"
        },
        "id": "OENoz65D9gtp",
        "outputId": "8806e594-9820-490f-dfad-1539bf0388a1"
      },
      "outputs": [
        {
          "output_type": "stream",
          "name": "stdout",
          "text": [
            "john_smith@comp.com\n",
            "kate_rhudson@comp.com\n",
            "john smith\n"
          ]
        }
      ],
      "source": [
        "class Employee:\n",
        "  \n",
        "  def __init__(self, first, last, pay):\n",
        "    self.first = first\n",
        "    self.last = last\n",
        "    self.pay = pay\n",
        "    self.email = first + '_' + last + '@comp.com'\n",
        "\n",
        "  def fullname(self):\n",
        "    return '{} {}'.format(self.first, self.last)\n",
        "\n",
        "\n",
        "emp1 = Employee('john' , 'smith' , 5000)\n",
        "emp2 = Employee('kate' , 'rhudson' , 6000)\n",
        "\n",
        "print(emp1.email)\n",
        "print(emp2.email)\n",
        "\n",
        "print(emp1.fullname())"
      ]
    },
    {
      "cell_type": "markdown",
      "source": [
        "Session 2"
      ],
      "metadata": {
        "id": "ChbFDgGGIHgK"
      }
    },
    {
      "cell_type": "code",
      "execution_count": 2,
      "metadata": {
        "colab": {
          "base_uri": "https://localhost:8080/"
        },
        "outputId": "ad2c0608-71d8-4207-df67-02b8844dbbb6",
        "id": "0wdLM6HAIId6"
      },
      "outputs": [
        {
          "output_type": "stream",
          "name": "stdout",
          "text": [
            "1.06\n",
            "1.07\n",
            "1.06\n"
          ]
        }
      ],
      "source": [
        "class Employee:\n",
        "  \n",
        "  raise_ammount = 1.04 #class variable\n",
        "  num_of_emps = 0\n",
        "\n",
        "  def __init__(self, first, last, pay):\n",
        "    self.first = first\n",
        "    self.last = last\n",
        "    self.pay = pay\n",
        "    self.email = first + '_' + last + '@comp.com'\n",
        "\n",
        "    Employee.num_of_emps += 1\n",
        "\n",
        "  def fullname(self):\n",
        "    return '{} {}'.format(self.first, self.last)\n",
        "\n",
        "  # variable that apply to all instances\n",
        "  def apply_raise(self):\n",
        "    self.pay = int(self.pay * self.raise_ammount)\n",
        "\n",
        "emp1 = Employee('john' , 'smith' , 5000)\n",
        "emp2 = Employee('kate' , 'rhudson' , 6000)\n",
        "\n",
        "\n",
        "\n",
        "Employee.raise_ammount = 1.06\n",
        "\n",
        "emp1.raise_ammount = 1.07\n",
        "\n",
        "\n",
        "print(Employee.raise_ammount)\n",
        "print(emp1.raise_ammount)\n",
        "print(emp2.raise_ammount)"
      ]
    },
    {
      "cell_type": "markdown",
      "source": [
        "session 3"
      ],
      "metadata": {
        "id": "8v3vaEb7kLTu"
      }
    },
    {
      "cell_type": "code",
      "source": [
        "class Employee:\n",
        "  \n",
        "  raise_ammount = 1.04 #class variable\n",
        "  num_of_emps = 0\n",
        "\n",
        "  def __init__(self, first, last, pay):\n",
        "    self.first = first\n",
        "    self.last = last\n",
        "    self.pay = pay\n",
        "    self.email = first + '_' + last + '@comp.com'\n",
        "\n",
        "    Employee.num_of_emps += 1\n",
        "\n",
        "  def fullname(self):\n",
        "    return '{} {}'.format(self.first, self.last)\n",
        "\n",
        "  # variable that apply to all instances\n",
        "  def apply_raise(self):\n",
        "    self.pay = int(self.pay * self.raise_ammount)\n",
        "\n",
        "  @classmethod\n",
        "  def set_raise_amt(cls, amount):\n",
        "    cls.raise_ammount = amount\n",
        "\n",
        "\n",
        "\n",
        "emp1 = Employee('john' , 'smith' , 5000)\n",
        "emp2 = Employee('kate' , 'rhudson' , 6000)\n",
        "\n",
        "emp1.set_raise_amt(1.05)\n",
        "\n",
        "Employee.raise_ammount = 1.06\n",
        "\n",
        "\n",
        "print(Employee.raise_ammount)\n",
        "print(emp1.raise_ammount)\n",
        "print(emp2.raise_ammount)"
      ],
      "metadata": {
        "colab": {
          "base_uri": "https://localhost:8080/"
        },
        "id": "Zj7ML4xKkKAP",
        "outputId": "d2ec1b9d-8fa8-48a7-ce3f-fa7d0578c795"
      },
      "execution_count": 3,
      "outputs": [
        {
          "output_type": "stream",
          "name": "stdout",
          "text": [
            "1.06\n",
            "1.06\n",
            "1.06\n"
          ]
        }
      ]
    },
    {
      "cell_type": "code",
      "source": [
        "class Employee:\n",
        "  \n",
        "  raise_ammount = 1.04 #class variable\n",
        "  num_of_emps = 0\n",
        "\n",
        "  def __init__(self, first, last, pay):\n",
        "    self.first = first\n",
        "    self.last = last\n",
        "    self.pay = pay\n",
        "    self.email = first + '_' + last + '@comp.com'\n",
        "\n",
        "    Employee.num_of_emps += 1\n",
        "\n",
        "  def fullname(self):\n",
        "    return '{} {}'.format(self.first, self.last)\n",
        "\n",
        "  # variable that apply to all instances\n",
        "  def apply_raise(self):\n",
        "    self.pay = int(self.pay * self.raise_ammount)\n",
        "\n",
        "  @classmethod\n",
        "  def set_raise_amt(cls, amount):\n",
        "    cls.raise_ammount = amount\n",
        "\n",
        "  # alternative constructor\n",
        "  @classmethod\n",
        "  def from_string(cls, empt_str):\n",
        "    first, last, pay= emp_str.split('-')\n",
        "    return cls(first, last, pay)\n",
        "\n",
        "  def is_workday(day):\n",
        "    if day.weekday() == 5 or day.weekday() == 6:\n",
        "      return False\n",
        "    else:\n",
        "      return True\n",
        "\n",
        "emp1 = Employee('john' , 'smith' , 5000)\n",
        "emp2 = Employee('kate' , 'rhudson' , 6000)\n",
        "\n",
        "emp1.set_raise_amt(1.05)\n",
        "\n",
        "Employee.raise_ammount = 1.06\n",
        "\n",
        "emp_str_1 = 'John-Doe-70000'\n",
        "emp_str_2 = 'Steve-Smith-30000'\n",
        "emp_str_3 = 'Jane-Doe-90000'\n",
        "\n",
        "print(Employee.raise_ammount)\n",
        "print(emp1.raise_ammount)\n",
        "print(emp2.raise_ammount)"
      ],
      "metadata": {
        "id": "Dhd2Hf5tA1Vj",
        "colab": {
          "base_uri": "https://localhost:8080/"
        },
        "outputId": "f8bda1e5-c97b-4879-dd8c-4907b765f9bd"
      },
      "execution_count": 4,
      "outputs": [
        {
          "output_type": "stream",
          "name": "stdout",
          "text": [
            "1.06\n",
            "1.06\n",
            "1.06\n"
          ]
        }
      ]
    },
    {
      "cell_type": "code",
      "source": [
        "print(help(Employee))"
      ],
      "metadata": {
        "colab": {
          "base_uri": "https://localhost:8080/"
        },
        "id": "lRTWHf7mkv7_",
        "outputId": "6657fc61-9f73-4bda-b860-8da57091a947"
      },
      "execution_count": 5,
      "outputs": [
        {
          "output_type": "stream",
          "name": "stdout",
          "text": [
            "Help on class Employee in module __main__:\n",
            "\n",
            "class Employee(builtins.object)\n",
            " |  Employee(first, last, pay)\n",
            " |  \n",
            " |  Methods defined here:\n",
            " |  \n",
            " |  __init__(self, first, last, pay)\n",
            " |      Initialize self.  See help(type(self)) for accurate signature.\n",
            " |  \n",
            " |  apply_raise(self)\n",
            " |      # variable that apply to all instances\n",
            " |  \n",
            " |  fullname(self)\n",
            " |  \n",
            " |  is_workday(day)\n",
            " |  \n",
            " |  ----------------------------------------------------------------------\n",
            " |  Class methods defined here:\n",
            " |  \n",
            " |  from_string(empt_str) from builtins.type\n",
            " |      # alternative constructor\n",
            " |  \n",
            " |  set_raise_amt(amount) from builtins.type\n",
            " |  \n",
            " |  ----------------------------------------------------------------------\n",
            " |  Data descriptors defined here:\n",
            " |  \n",
            " |  __dict__\n",
            " |      dictionary for instance variables (if defined)\n",
            " |  \n",
            " |  __weakref__\n",
            " |      list of weak references to the object (if defined)\n",
            " |  \n",
            " |  ----------------------------------------------------------------------\n",
            " |  Data and other attributes defined here:\n",
            " |  \n",
            " |  num_of_emps = 2\n",
            " |  \n",
            " |  raise_ammount = 1.06\n",
            "\n",
            "None\n"
          ]
        }
      ]
    },
    {
      "cell_type": "markdown",
      "source": [
        "Session 4\n",
        "Inheretence"
      ],
      "metadata": {
        "id": "G0l-jKzijjir"
      }
    },
    {
      "cell_type": "code",
      "source": [
        "class Developer(Employee):\n",
        "  raise_amt = 1.10\n",
        "\n",
        "  def __init__(self, first, last, pay, prog_lang):\n",
        "    super().__init__(first, last, pay)\n",
        "    self.prog_lang = prog_lang\n",
        "\n",
        "dev1 = Developer('jack','sate',1000,'python')\n",
        "dev2 = Developer('mike','tim',2000,'java')\n",
        "\n",
        "print(help(Developer))"
      ],
      "metadata": {
        "colab": {
          "base_uri": "https://localhost:8080/"
        },
        "id": "hvhbi7D8jhg4",
        "outputId": "47cce904-e8fb-4f0e-acee-ce25c516df29"
      },
      "execution_count": 6,
      "outputs": [
        {
          "output_type": "stream",
          "name": "stdout",
          "text": [
            "Help on class Developer in module __main__:\n",
            "\n",
            "class Developer(Employee)\n",
            " |  Developer(first, last, pay, prog_lang)\n",
            " |  \n",
            " |  Method resolution order:\n",
            " |      Developer\n",
            " |      Employee\n",
            " |      builtins.object\n",
            " |  \n",
            " |  Methods defined here:\n",
            " |  \n",
            " |  __init__(self, first, last, pay, prog_lang)\n",
            " |      Initialize self.  See help(type(self)) for accurate signature.\n",
            " |  \n",
            " |  ----------------------------------------------------------------------\n",
            " |  Data and other attributes defined here:\n",
            " |  \n",
            " |  raise_amt = 1.1\n",
            " |  \n",
            " |  ----------------------------------------------------------------------\n",
            " |  Methods inherited from Employee:\n",
            " |  \n",
            " |  apply_raise(self)\n",
            " |      # variable that apply to all instances\n",
            " |  \n",
            " |  fullname(self)\n",
            " |  \n",
            " |  is_workday(day)\n",
            " |  \n",
            " |  ----------------------------------------------------------------------\n",
            " |  Class methods inherited from Employee:\n",
            " |  \n",
            " |  from_string(empt_str) from builtins.type\n",
            " |      # alternative constructor\n",
            " |  \n",
            " |  set_raise_amt(amount) from builtins.type\n",
            " |  \n",
            " |  ----------------------------------------------------------------------\n",
            " |  Data descriptors inherited from Employee:\n",
            " |  \n",
            " |  __dict__\n",
            " |      dictionary for instance variables (if defined)\n",
            " |  \n",
            " |  __weakref__\n",
            " |      list of weak references to the object (if defined)\n",
            " |  \n",
            " |  ----------------------------------------------------------------------\n",
            " |  Data and other attributes inherited from Employee:\n",
            " |  \n",
            " |  num_of_emps = 4\n",
            " |  \n",
            " |  raise_ammount = 1.06\n",
            "\n",
            "None\n"
          ]
        }
      ]
    },
    {
      "cell_type": "code",
      "source": [
        "print(dev1.pay)\n",
        "dev1.apply_raise()\n",
        "print(dev1.pay)"
      ],
      "metadata": {
        "colab": {
          "base_uri": "https://localhost:8080/"
        },
        "id": "VTNCdbX-kjMR",
        "outputId": "a36c09ac-423d-4fb1-e26e-4d4181b2d7b5"
      },
      "execution_count": 7,
      "outputs": [
        {
          "output_type": "stream",
          "name": "stdout",
          "text": [
            "1000\n",
            "1060\n"
          ]
        }
      ]
    },
    {
      "cell_type": "code",
      "source": [
        "print(dev1.pay)\n",
        "dev1.apply_raise()\n",
        "dev1.apply_raise()\n",
        "print(dev1.pay)"
      ],
      "metadata": {
        "colab": {
          "base_uri": "https://localhost:8080/"
        },
        "id": "d7Y2BClInffu",
        "outputId": "d2b2a905-895d-4cb6-8f84-e011af837fe5"
      },
      "execution_count": 8,
      "outputs": [
        {
          "output_type": "stream",
          "name": "stdout",
          "text": [
            "1060\n",
            "1190\n"
          ]
        }
      ]
    },
    {
      "cell_type": "code",
      "source": [
        "print(dev1.email)\n",
        "print(dev1.prog_lang)"
      ],
      "metadata": {
        "colab": {
          "base_uri": "https://localhost:8080/"
        },
        "id": "18lKVjzJnjbR",
        "outputId": "0cfd5dd7-7346-471f-e1ab-d8da7f823ef1"
      },
      "execution_count": 9,
      "outputs": [
        {
          "output_type": "stream",
          "name": "stdout",
          "text": [
            "jack_sate@comp.com\n",
            "python\n"
          ]
        }
      ]
    },
    {
      "cell_type": "code",
      "source": [
        "class Manager(Employee):\n",
        "  def __init__(self,first,last,pay, Employees= None):\n",
        "    super().__init__(first, last, pay)\n",
        "    if Employees is None:\n",
        "      self.Employees = []\n",
        "    else:\n",
        "      self.Employees = []\n",
        "    \n",
        "  def add_emp(self, emp):\n",
        "    if emp not in self.Employees:\n",
        "      self.Employees.append(emp)\n",
        "\n",
        "  def remove_emp(self, emp):\n",
        "    if emp in self.Employees:\n",
        "      self.Employees.remove(emp)\n",
        "\n",
        "  def print_emps(self):\n",
        "    for emp in self.Employees:\n",
        "      print('-->' , emp.fullname())\n",
        "\n",
        "mgr_1= Manager('sue' , 'Smith',9000, [dev1])\n",
        "print(mgr_1.email)"
      ],
      "metadata": {
        "colab": {
          "base_uri": "https://localhost:8080/"
        },
        "id": "L-xk6kgHpzCy",
        "outputId": "beebbcd7-d02e-438f-ac0b-b89c205cc115"
      },
      "execution_count": 10,
      "outputs": [
        {
          "output_type": "stream",
          "name": "stdout",
          "text": [
            "sue_Smith@comp.com\n"
          ]
        }
      ]
    },
    {
      "cell_type": "code",
      "source": [
        "mgr_1.add_emp(dev2)\n",
        "mgr_1.remove_emp(dev1)\n",
        "\n",
        "mgr_1.print_emps()"
      ],
      "metadata": {
        "colab": {
          "base_uri": "https://localhost:8080/"
        },
        "id": "bg1i6UQRruYP",
        "outputId": "fdc6f177-108e-40b0-d151-be4be0dbb890"
      },
      "execution_count": 11,
      "outputs": [
        {
          "output_type": "stream",
          "name": "stdout",
          "text": [
            "--> mike tim\n"
          ]
        }
      ]
    },
    {
      "cell_type": "code",
      "source": [
        "print(isinstance(mgr_1,Developer))\n",
        "print(isinstance(mgr_1,Manager))\n",
        "print(isinstance(mgr_1,Employee))"
      ],
      "metadata": {
        "colab": {
          "base_uri": "https://localhost:8080/"
        },
        "id": "NkGUyLuLxhJz",
        "outputId": "dd3d84c9-2968-47fa-8d87-55ed44634163"
      },
      "execution_count": 12,
      "outputs": [
        {
          "output_type": "stream",
          "name": "stdout",
          "text": [
            "False\n",
            "True\n",
            "True\n"
          ]
        }
      ]
    },
    {
      "cell_type": "code",
      "source": [
        "print(issubclass(Manager,Employee))\n",
        "print(issubclass(Manager,Developer))"
      ],
      "metadata": {
        "colab": {
          "base_uri": "https://localhost:8080/"
        },
        "id": "BIRgat9dyE2O",
        "outputId": "968fa2f3-c374-4f52-ee7d-d3e8c6042015"
      },
      "execution_count": 13,
      "outputs": [
        {
          "output_type": "stream",
          "name": "stdout",
          "text": [
            "True\n",
            "False\n"
          ]
        }
      ]
    },
    {
      "cell_type": "markdown",
      "source": [
        "Session 5\n",
        "\n",
        "magic/dunder Methods\n",
        "repr\n",
        "str"
      ],
      "metadata": {
        "id": "WiZGY27EZCsf"
      }
    },
    {
      "cell_type": "code",
      "source": [
        "class Employee:\n",
        "  \n",
        "  def __init__(self, first, last, pay):\n",
        "    self.first = first\n",
        "    self.last = last\n",
        "    self.pay = pay\n",
        "    self.email = first + '_' + last + '@comp.com'\n",
        "\n",
        "  def fullname(self):\n",
        "    return '{} {}'.format(self.first, self.last)\n",
        "\n",
        "  # for better readability\n",
        "  def __repr__(self):\n",
        "    return \"Employee('{}','{}',{})\".format(self.first, self.last, self.pay)\n",
        "\n",
        "  # for better readability\n",
        "  def __str__(self):\n",
        "    return '{} - {}'.format(self.fullname() , self.email)\n",
        "\n",
        "  def __add__(self, other):\n",
        "    return self.pay + other.pay"
      ],
      "metadata": {
        "id": "AQbWSrqpyPjG"
      },
      "execution_count": 41,
      "outputs": []
    },
    {
      "cell_type": "code",
      "source": [
        "emp1 = Employee('john' , 'smith' , 5000)\n",
        "print(emp1)\n",
        "print(emp1.__str__())\n",
        "print(emp1.__repr__())\n",
        "print(emp1 + emp2)"
      ],
      "metadata": {
        "colab": {
          "base_uri": "https://localhost:8080/"
        },
        "id": "DVRz7yf5b1ie",
        "outputId": "5a218681-a3d6-45b0-ff33-9c7114c37700"
      },
      "execution_count": 42,
      "outputs": [
        {
          "output_type": "stream",
          "name": "stdout",
          "text": [
            "john smith - john_smith@comp.com\n",
            "john smith - john_smith@comp.com\n",
            "Employee('john','smith',5000)\n",
            "11000\n"
          ]
        }
      ]
    },
    {
      "cell_type": "markdown",
      "source": [
        "Session 6\n",
        "\n",
        "getters, setters, deleters"
      ],
      "metadata": {
        "id": "HiKX6ww44agN"
      }
    },
    {
      "cell_type": "code",
      "source": [
        "class Employee:\n",
        "\n",
        "    def __init__(self, first, last):\n",
        "        self.first = first\n",
        "        self.last = last\n",
        "\n",
        "    @property\n",
        "    def email(self):\n",
        "        return '{}.{}@email.com'.format(self.first, self.last)\n",
        "\n",
        "    @property\n",
        "    def fullname(self):\n",
        "        return '{} {}'.format(self.first, self.last)\n",
        "    \n",
        "    @fullname.setter\n",
        "    def fullname(self, name):\n",
        "        first, last = name.split(' ')\n",
        "        self.first = first\n",
        "        self.last = last\n",
        "    \n",
        "    @fullname.deleter\n",
        "    def fullname(self):\n",
        "        print('Delete Name!')\n",
        "        self.first = None\n",
        "        self.last = None\n"
      ],
      "metadata": {
        "id": "1OFCOSUXb3o9"
      },
      "execution_count": 53,
      "outputs": []
    },
    {
      "cell_type": "code",
      "source": [
        "emp3 = Employee('John','Smith')"
      ],
      "metadata": {
        "id": "QWkiXLQb9T3H"
      },
      "execution_count": 54,
      "outputs": []
    },
    {
      "cell_type": "code",
      "source": [
        ""
      ],
      "metadata": {
        "id": "nps2JbEHAHib"
      },
      "execution_count": null,
      "outputs": []
    }
  ]
}