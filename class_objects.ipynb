{
  "nbformat": 4,
  "nbformat_minor": 0,
  "metadata": {
    "colab": {
      "name": "class_objects.ipynb",
      "provenance": [],
      "authorship_tag": "ABX9TyOoK0R8V+G1iKhZkAOayWGD",
      "include_colab_link": true
    },
    "kernelspec": {
      "name": "python3",
      "display_name": "Python 3"
    },
    "language_info": {
      "name": "python"
    }
  },
  "cells": [
    {
      "cell_type": "markdown",
      "metadata": {
        "id": "view-in-github",
        "colab_type": "text"
      },
      "source": [
        "<a href=\"https://colab.research.google.com/github/alibagheri7/Object_Oriented_Programming/blob/main/class_objects.ipynb\" target=\"_parent\"><img src=\"https://colab.research.google.com/assets/colab-badge.svg\" alt=\"Open In Colab\"/></a>"
      ]
    },
    {
      "cell_type": "markdown",
      "source": [
        "Session 1"
      ],
      "metadata": {
        "id": "XcpDYtF2FSY6"
      }
    },
    {
      "cell_type": "code",
      "execution_count": null,
      "metadata": {
        "colab": {
          "base_uri": "https://localhost:8080/"
        },
        "id": "OENoz65D9gtp",
        "outputId": "48945daf-41ec-47c2-a02a-19db4ab6be30"
      },
      "outputs": [
        {
          "output_type": "stream",
          "name": "stdout",
          "text": [
            "john_smith@comp.com\n",
            "kate_rhudson@comp.com\n",
            "john smith\n"
          ]
        }
      ],
      "source": [
        "class Employee:\n",
        "  \n",
        "  def __init__(self, first, last, pay):\n",
        "    self.first = first\n",
        "    self.last = last\n",
        "    self.pay = pay\n",
        "    self.email = first + '_' + last + '@comp.com'\n",
        "\n",
        "  def fullname(self):\n",
        "    return '{} {}'.format(self.first, self.last)\n",
        "\n",
        "\n",
        "emp1 = Employee('john' , 'smith' , 5000)\n",
        "emp2 = Employee('kate' , 'rhudson' , 6000)\n",
        "\n",
        "print(emp1.email)\n",
        "print(emp2.email)\n",
        "\n",
        "print(emp1.fullname())"
      ]
    },
    {
      "cell_type": "markdown",
      "source": [
        "Session 2"
      ],
      "metadata": {
        "id": "ChbFDgGGIHgK"
      }
    },
    {
      "cell_type": "code",
      "execution_count": null,
      "metadata": {
        "colab": {
          "base_uri": "https://localhost:8080/"
        },
        "outputId": "31af3987-0172-470a-f415-7138508967a2",
        "id": "0wdLM6HAIId6"
      },
      "outputs": [
        {
          "output_type": "stream",
          "name": "stdout",
          "text": [
            "1.06\n",
            "1.07\n",
            "1.06\n"
          ]
        }
      ],
      "source": [
        "class Employee:\n",
        "  \n",
        "  raise_ammount = 1.04 #class variable\n",
        "  num_of_emps = 0\n",
        "\n",
        "  def __init__(self, first, last, pay):\n",
        "    self.first = first\n",
        "    self.last = last\n",
        "    self.pay = pay\n",
        "    self.email = first + '_' + last + '@comp.com'\n",
        "\n",
        "    Employee.num_of_emps += 1\n",
        "\n",
        "  def fullname(self):\n",
        "    return '{} {}'.format(self.first, self.last)\n",
        "\n",
        "  # variable that apply to all instances\n",
        "  def apply_raise(self):\n",
        "    self.pay = int(self.pay * self.raise_ammount)\n",
        "\n",
        "emp1 = Employee('john' , 'smith' , 5000)\n",
        "emp2 = Employee('kate' , 'rhudson' , 6000)\n",
        "\n",
        "\n",
        "\n",
        "Employee.raise_ammount = 1.06\n",
        "\n",
        "emp1.raise_ammount = 1.07\n",
        "\n",
        "\n",
        "print(Employee.raise_ammount)\n",
        "print(emp1.raise_ammount)\n",
        "print(emp2.raise_ammount)"
      ]
    },
    {
      "cell_type": "markdown",
      "source": [
        "session 3"
      ],
      "metadata": {
        "id": "8v3vaEb7kLTu"
      }
    },
    {
      "cell_type": "code",
      "source": [
        "class Employee:\n",
        "  \n",
        "  raise_ammount = 1.04 #class variable\n",
        "  num_of_emps = 0\n",
        "\n",
        "  def __init__(self, first, last, pay):\n",
        "    self.first = first\n",
        "    self.last = last\n",
        "    self.pay = pay\n",
        "    self.email = first + '_' + last + '@comp.com'\n",
        "\n",
        "    Employee.num_of_emps += 1\n",
        "\n",
        "  def fullname(self):\n",
        "    return '{} {}'.format(self.first, self.last)\n",
        "\n",
        "  # variable that apply to all instances\n",
        "  def apply_raise(self):\n",
        "    self.pay = int(self.pay * self.raise_ammount)\n",
        "\n",
        "  @classmethod\n",
        "  def set_raise_amt(cls, amount):\n",
        "    cls.raise_ammount = amount\n",
        "\n",
        "\n",
        "\n",
        "emp1 = Employee('john' , 'smith' , 5000)\n",
        "emp2 = Employee('kate' , 'rhudson' , 6000)\n",
        "\n",
        "emp1.set_raise_amt(1.05)\n",
        "\n",
        "Employee.raise_ammount = 1.06\n",
        "\n",
        "\n",
        "print(Employee.raise_ammount)\n",
        "print(emp1.raise_ammount)\n",
        "print(emp2.raise_ammount)"
      ],
      "metadata": {
        "colab": {
          "base_uri": "https://localhost:8080/"
        },
        "id": "Zj7ML4xKkKAP",
        "outputId": "7ca4c4f7-593a-43e1-d417-927219a4bd3f"
      },
      "execution_count": null,
      "outputs": [
        {
          "output_type": "stream",
          "name": "stdout",
          "text": [
            "1.06\n",
            "1.06\n",
            "1.06\n"
          ]
        }
      ]
    },
    {
      "cell_type": "code",
      "source": [
        "class Employee:\n",
        "  \n",
        "  raise_ammount = 1.04 #class variable\n",
        "  num_of_emps = 0\n",
        "\n",
        "  def __init__(self, first, last, pay):\n",
        "    self.first = first\n",
        "    self.last = last\n",
        "    self.pay = pay\n",
        "    self.email = first + '_' + last + '@comp.com'\n",
        "\n",
        "    Employee.num_of_emps += 1\n",
        "\n",
        "  def fullname(self):\n",
        "    return '{} {}'.format(self.first, self.last)\n",
        "\n",
        "  # variable that apply to all instances\n",
        "  def apply_raise(self):\n",
        "    self.pay = int(self.pay * self.raise_ammount)\n",
        "\n",
        "  @classmethod\n",
        "  def set_raise_amt(cls, amount):\n",
        "    cls.raise_ammount = amount\n",
        "\n",
        "  # alternative constructor\n",
        "  @classmethod\n",
        "  def from_string(cls, empt_str):\n",
        "    first, last, pay= emp_str.split('-')\n",
        "    return cls(first, last, pay)\n",
        "\n",
        "  def is_workday(day):\n",
        "    if day.weekday() == 5 or day.weekday() == 6:\n",
        "      return False\n",
        "    else:\n",
        "      return True\n",
        "\n",
        "emp1 = Employee('john' , 'smith' , 5000)\n",
        "emp2 = Employee('kate' , 'rhudson' , 6000)\n",
        "\n",
        "emp1.set_raise_amt(1.05)\n",
        "\n",
        "Employee.raise_ammount = 1.06\n",
        "\n",
        "emp_str_1 = 'John-Doe-70000'\n",
        "emp_str_2 = 'Steve-Smith-30000'\n",
        "emp_str_3 = 'Jane-Doe-90000'\n",
        "\n",
        "print(Employee.raise_ammount)\n",
        "print(emp1.raise_ammount)\n",
        "print(emp2.raise_ammount)"
      ],
      "metadata": {
        "id": "Dhd2Hf5tA1Vj",
        "colab": {
          "base_uri": "https://localhost:8080/"
        },
        "outputId": "37d51154-88ba-4564-a00f-4ed4b5989428"
      },
      "execution_count": null,
      "outputs": [
        {
          "output_type": "stream",
          "name": "stdout",
          "text": [
            "1.06\n",
            "1.06\n",
            "1.06\n"
          ]
        }
      ]
    },
    {
      "cell_type": "code",
      "source": [
        "print(help(Employee))"
      ],
      "metadata": {
        "colab": {
          "base_uri": "https://localhost:8080/"
        },
        "id": "lRTWHf7mkv7_",
        "outputId": "434cc74f-37a2-4288-eda9-774b2ce0c3fe"
      },
      "execution_count": null,
      "outputs": [
        {
          "output_type": "stream",
          "name": "stdout",
          "text": [
            "Help on class Employee in module __main__:\n",
            "\n",
            "class Employee(builtins.object)\n",
            " |  Employee(first, last, pay)\n",
            " |  \n",
            " |  Methods defined here:\n",
            " |  \n",
            " |  __init__(self, first, last, pay)\n",
            " |      Initialize self.  See help(type(self)) for accurate signature.\n",
            " |  \n",
            " |  apply_raise(self)\n",
            " |      # variable that apply to all instances\n",
            " |  \n",
            " |  fullname(self)\n",
            " |  \n",
            " |  is_workday(day)\n",
            " |  \n",
            " |  ----------------------------------------------------------------------\n",
            " |  Class methods defined here:\n",
            " |  \n",
            " |  from_string(empt_str) from builtins.type\n",
            " |      # alternative constructor\n",
            " |  \n",
            " |  set_raise_amt(amount) from builtins.type\n",
            " |  \n",
            " |  ----------------------------------------------------------------------\n",
            " |  Data descriptors defined here:\n",
            " |  \n",
            " |  __dict__\n",
            " |      dictionary for instance variables (if defined)\n",
            " |  \n",
            " |  __weakref__\n",
            " |      list of weak references to the object (if defined)\n",
            " |  \n",
            " |  ----------------------------------------------------------------------\n",
            " |  Data and other attributes defined here:\n",
            " |  \n",
            " |  num_of_emps = 2\n",
            " |  \n",
            " |  raise_ammount = 1.06\n",
            "\n",
            "None\n"
          ]
        }
      ]
    },
    {
      "cell_type": "markdown",
      "source": [
        "Session 4\n",
        "Inheretence"
      ],
      "metadata": {
        "id": "G0l-jKzijjir"
      }
    },
    {
      "cell_type": "code",
      "source": [
        "class Developer(Employee):\n",
        "  raise_amt = 1.10\n",
        "\n",
        "  def __init__(self, first, last, pay, prog_lang):\n",
        "    super().__init__(first, last, pay)\n",
        "    self.prog_lang = prog_lang\n",
        "\n",
        "dev1 = Developer('jack','sate',1000,'python')\n",
        "dev2 = Developer('mike','tim',2000,'java')\n",
        "\n",
        "print(help(Developer))"
      ],
      "metadata": {
        "colab": {
          "base_uri": "https://localhost:8080/"
        },
        "id": "hvhbi7D8jhg4",
        "outputId": "0fa961e8-83ff-4f4a-f620-3f7fa804a4f5"
      },
      "execution_count": null,
      "outputs": [
        {
          "output_type": "stream",
          "name": "stdout",
          "text": [
            "Help on class Developer in module __main__:\n",
            "\n",
            "class Developer(Employee)\n",
            " |  Developer(first, last, pay, prog_lang)\n",
            " |  \n",
            " |  Method resolution order:\n",
            " |      Developer\n",
            " |      Employee\n",
            " |      builtins.object\n",
            " |  \n",
            " |  Methods defined here:\n",
            " |  \n",
            " |  __init__(self, first, last, pay, prog_lang)\n",
            " |      Initialize self.  See help(type(self)) for accurate signature.\n",
            " |  \n",
            " |  ----------------------------------------------------------------------\n",
            " |  Data and other attributes defined here:\n",
            " |  \n",
            " |  raise_amt = 1.1\n",
            " |  \n",
            " |  ----------------------------------------------------------------------\n",
            " |  Methods inherited from Employee:\n",
            " |  \n",
            " |  apply_raise(self)\n",
            " |      # variable that apply to all instances\n",
            " |  \n",
            " |  fullname(self)\n",
            " |  \n",
            " |  is_workday(day)\n",
            " |  \n",
            " |  ----------------------------------------------------------------------\n",
            " |  Class methods inherited from Employee:\n",
            " |  \n",
            " |  from_string(empt_str) from builtins.type\n",
            " |      # alternative constructor\n",
            " |  \n",
            " |  set_raise_amt(amount) from builtins.type\n",
            " |  \n",
            " |  ----------------------------------------------------------------------\n",
            " |  Data descriptors inherited from Employee:\n",
            " |  \n",
            " |  __dict__\n",
            " |      dictionary for instance variables (if defined)\n",
            " |  \n",
            " |  __weakref__\n",
            " |      list of weak references to the object (if defined)\n",
            " |  \n",
            " |  ----------------------------------------------------------------------\n",
            " |  Data and other attributes inherited from Employee:\n",
            " |  \n",
            " |  num_of_emps = 4\n",
            " |  \n",
            " |  raise_ammount = 1.06\n",
            "\n",
            "None\n"
          ]
        }
      ]
    },
    {
      "cell_type": "code",
      "source": [
        "print(dev1.pay)\n",
        "dev1.apply_raise()\n",
        "print(dev1.pay)"
      ],
      "metadata": {
        "colab": {
          "base_uri": "https://localhost:8080/"
        },
        "id": "VTNCdbX-kjMR",
        "outputId": "1b6c15f1-4950-43c2-b192-e64f2e000068"
      },
      "execution_count": null,
      "outputs": [
        {
          "output_type": "stream",
          "name": "stdout",
          "text": [
            "1000\n",
            "1060\n"
          ]
        }
      ]
    },
    {
      "cell_type": "code",
      "source": [
        "print(dev1.pay)\n",
        "dev1.apply_raise()\n",
        "dev1.apply_raise()\n",
        "print(dev1.pay)"
      ],
      "metadata": {
        "colab": {
          "base_uri": "https://localhost:8080/"
        },
        "id": "d7Y2BClInffu",
        "outputId": "1afb851d-7f20-4535-96d9-daf0ccb79366"
      },
      "execution_count": null,
      "outputs": [
        {
          "output_type": "stream",
          "name": "stdout",
          "text": [
            "1060\n",
            "1190\n"
          ]
        }
      ]
    },
    {
      "cell_type": "code",
      "source": [
        "print(dev1.email)\n",
        "print(dev1.prog_lang)"
      ],
      "metadata": {
        "colab": {
          "base_uri": "https://localhost:8080/"
        },
        "id": "18lKVjzJnjbR",
        "outputId": "6e900382-8260-4fca-bc2f-168c276f0467"
      },
      "execution_count": null,
      "outputs": [
        {
          "output_type": "stream",
          "name": "stdout",
          "text": [
            "jack_sate@comp.com\n",
            "python\n"
          ]
        }
      ]
    },
    {
      "cell_type": "code",
      "source": [
        "class Manager(Employee):\n",
        "  def __init__(self,first,last,pay, Employees= None):\n",
        "    super().__init__(first, last, pay)\n",
        "    if Employees is None:\n",
        "      self.Employees = []\n",
        "    else:\n",
        "      self.Employees = []\n",
        "    \n",
        "  def add_emp(self, emp):\n",
        "    if emp not in self.Employees:\n",
        "      self.Employees.append(emp)\n",
        "\n",
        "  def remove_emp(self, emp):\n",
        "    if emp in self.Employees:\n",
        "      self.Employees.remove(emp)\n",
        "\n",
        "  def print_emps(self):\n",
        "    for emp in self.Employees:\n",
        "      print('-->' , emp.fullname())\n",
        "\n",
        "mgr_1= Manager('sue' , 'Smith',9000, [dev1])\n",
        "print(mgr_1.email)"
      ],
      "metadata": {
        "colab": {
          "base_uri": "https://localhost:8080/"
        },
        "id": "L-xk6kgHpzCy",
        "outputId": "2fcd9f4b-5275-42ca-f740-3f07c9a27a9c"
      },
      "execution_count": null,
      "outputs": [
        {
          "output_type": "stream",
          "name": "stdout",
          "text": [
            "sue_Smith@comp.com\n"
          ]
        }
      ]
    },
    {
      "cell_type": "code",
      "source": [
        "mgr_1.add_emp(dev2)\n",
        "mgr_1.remove_emp(dev1)\n",
        "\n",
        "mgr_1.print_emps()"
      ],
      "metadata": {
        "colab": {
          "base_uri": "https://localhost:8080/"
        },
        "id": "bg1i6UQRruYP",
        "outputId": "5a2d332e-991d-4c22-db57-d875322cbf29"
      },
      "execution_count": null,
      "outputs": [
        {
          "output_type": "stream",
          "name": "stdout",
          "text": [
            "--> mike tim\n"
          ]
        }
      ]
    },
    {
      "cell_type": "code",
      "source": [
        "print(isinstance(mgr_1,Developer))\n",
        "print(isinstance(mgr_1,Manager))\n",
        "print(isinstance(mgr_1,Employee))"
      ],
      "metadata": {
        "colab": {
          "base_uri": "https://localhost:8080/"
        },
        "id": "NkGUyLuLxhJz",
        "outputId": "c1fadbd9-425c-4433-fc64-6f7f16e1a601"
      },
      "execution_count": null,
      "outputs": [
        {
          "output_type": "stream",
          "name": "stdout",
          "text": [
            "False\n",
            "True\n",
            "True\n"
          ]
        }
      ]
    },
    {
      "cell_type": "code",
      "source": [
        "print(issubclass(Manager,Employee))\n",
        "print(issubclass(Manager,Developer))"
      ],
      "metadata": {
        "colab": {
          "base_uri": "https://localhost:8080/"
        },
        "id": "BIRgat9dyE2O",
        "outputId": "bdd21cdc-509b-4cc0-a9c9-f74fa3358f8d"
      },
      "execution_count": null,
      "outputs": [
        {
          "output_type": "stream",
          "name": "stdout",
          "text": [
            "True\n",
            "False\n"
          ]
        }
      ]
    },
    {
      "cell_type": "code",
      "source": [
        ""
      ],
      "metadata": {
        "id": "AQbWSrqpyPjG"
      },
      "execution_count": null,
      "outputs": []
    }
  ]
}